{
 "cells": [
  {
   "cell_type": "markdown",
   "id": "5e2392a1",
   "metadata": {},
   "source": [
    "Exercise 7: Histogram"
   ]
  },
  {
   "cell_type": "markdown",
   "id": "c952d361",
   "metadata": {},
   "source": [
    "#### Setup"
   ]
  },
  {
   "cell_type": "code",
   "execution_count": 1,
   "id": "047d9dc9",
   "metadata": {
    "deletable": false,
    "tags": [
     "setup"
    ]
   },
   "outputs": [],
   "source": [
    "# import matplotlib and pandas\n",
    "from matplotlib import pyplot as plt\n",
    "import pandas as pd\n",
    "\n",
    "# load dataset\n",
    "hist_data = pd.read_csv('lobster_dist.csv')"
   ]
  },
  {
   "cell_type": "code",
   "execution_count": 2,
   "id": "e20ebb3c",
   "metadata": {},
   "outputs": [],
   "source": [
    "# display charts correctly\n",
    "%matplotlib inline\n",
    "plt.rcParams['figure.figsize'] = (5, 3)\n",
    "plt.rcParams['figure.dpi'] = 75"
   ]
  },
  {
   "cell_type": "markdown",
   "id": "079e0e0c",
   "metadata": {},
   "source": [
    "1. Run the Setup cells above. In the cell below, run the code to check out the first few rows of `hist_data` to see what we’re working with. (Note: `carapace_length` refers to the length of the lobster’s shell.)"
   ]
  },
  {
   "cell_type": "code",
   "execution_count": 3,
   "id": "b318baec",
   "metadata": {
    "deletable": false,
    "tags": [
     "cp1"
    ]
   },
   "outputs": [
    {
     "data": {
      "text/html": [
       "<div>\n",
       "<style scoped>\n",
       "    .dataframe tbody tr th:only-of-type {\n",
       "        vertical-align: middle;\n",
       "    }\n",
       "\n",
       "    .dataframe tbody tr th {\n",
       "        vertical-align: top;\n",
       "    }\n",
       "\n",
       "    .dataframe thead th {\n",
       "        text-align: right;\n",
       "    }\n",
       "</style>\n",
       "<table border=\"1\" class=\"dataframe\">\n",
       "  <thead>\n",
       "    <tr style=\"text-align: right;\">\n",
       "      <th></th>\n",
       "      <th>specimen</th>\n",
       "      <th>carapace_length</th>\n",
       "    </tr>\n",
       "  </thead>\n",
       "  <tbody>\n",
       "    <tr>\n",
       "      <th>0</th>\n",
       "      <td>0</td>\n",
       "      <td>79</td>\n",
       "    </tr>\n",
       "    <tr>\n",
       "      <th>1</th>\n",
       "      <td>1</td>\n",
       "      <td>80</td>\n",
       "    </tr>\n",
       "    <tr>\n",
       "      <th>2</th>\n",
       "      <td>2</td>\n",
       "      <td>80</td>\n",
       "    </tr>\n",
       "    <tr>\n",
       "      <th>3</th>\n",
       "      <td>3</td>\n",
       "      <td>80</td>\n",
       "    </tr>\n",
       "    <tr>\n",
       "      <th>4</th>\n",
       "      <td>4</td>\n",
       "      <td>80</td>\n",
       "    </tr>\n",
       "  </tbody>\n",
       "</table>\n",
       "</div>"
      ],
      "text/plain": [
       "   specimen  carapace_length\n",
       "0         0               79\n",
       "1         1               80\n",
       "2         2               80\n",
       "3         3               80\n",
       "4         4               80"
      ]
     },
     "execution_count": 3,
     "metadata": {},
     "output_type": "execute_result"
    }
   ],
   "source": [
    "hist_data.head()"
   ]
  },
  {
   "cell_type": "markdown",
   "id": "d43827b1",
   "metadata": {},
   "source": [
    "<details>\n",
    "    <summary style=\"display:list-item; font-size:16px; color:blue;\"><i>Can you describe what this data means? Toggle for more:</i></summary>\n",
    "    Distribution data can be challenging to look at, because it's often formatted for computer-readability, not human-readability. <br><br> \n",
    "    In this case, each row represents one lobster. There is only one lobster with a carapace of 79 mm, but there are multiple lobsters with a caparace length of 80. These repeat numbers are hard to analyze in table format, but luckily that's what the histogram is perfect for!<br><br> \n",
    "    </details>"
   ]
  },
  {
   "cell_type": "markdown",
   "id": "6a172e5e",
   "metadata": {},
   "source": [
    "2. Now that we've looked at some of the data in table form, let's see it as a histogram. Write the code to make a histogram. Set the `bins` to 10. "
   ]
  },
  {
   "cell_type": "code",
   "execution_count": 6,
   "id": "e73ed471",
   "metadata": {
    "deletable": false,
    "tags": [
     "cp2"
    ]
   },
   "outputs": [
    {
     "data": {
      "image/png": "[encoded data removed]",
      "text/plain": [
       "<Figure size 375x225 with 1 Axes>"
      ]
     },
     "metadata": {},
     "output_type": "display_data"
    }
   ],
   "source": [
    "## YOUR SOLUTION HERE ##\n",
    "plt.hist(hist_data.carapace_length, bins = 10)\n",
    "\n",
    "plt.show()"
   ]
  },
  {
   "cell_type": "markdown",
   "id": "97434973",
   "metadata": {},
   "source": [
    "<details>\n",
    "    <summary style=\"display:list-item; font-size:16px; color:blue;\"><i>Is this the right number of bins? Toggle to check:</i></summary>\n",
    "    It's probably too early to tell. It looks as if there are generally more small lobsters than large lobsters, but we should check the graph at a higher level of detail before concluding that that's the only relevant pattern in the distribution.<br><br> \n",
    "    </details>"
   ]
  },
  {
   "cell_type": "markdown",
   "id": "8d481799",
   "metadata": {},
   "source": [
    "3. Change the number of `bins` to 20. Let's also make this graph more readable: **title** the graph \"Lobsters tagged by size\", and **label** the x and y axes \"Carapace length (mm)\" and \"Number tagged\", respectively. "
   ]
  },
  {
   "cell_type": "code",
   "execution_count": 7,
   "id": "4ddf801b",
   "metadata": {
    "deletable": false,
    "tags": [
     "cp3"
    ]
   },
   "outputs": [
    {
     "data": {
      "image/png": "[encoded data removed]",
      "text/plain": [
       "<Figure size 375x225 with 1 Axes>"
      ]
     },
     "metadata": {},
     "output_type": "display_data"
    }
   ],
   "source": [
    "## YOUR SOLUTION HERE ##\n",
    "plt.hist(hist_data.carapace_length, bins = 20)\n",
    "plt.title('Lobsters tagged by size')\n",
    "plt.xlabel('Carapace length (mm)')\n",
    "plt.ylabel('Number tagged')\n",
    "\n",
    "\n",
    "\n",
    "plt.show()"
   ]
  },
  {
   "cell_type": "markdown",
   "id": "4d3eb406",
   "metadata": {},
   "source": [
    "<details>\n",
    "    <summary style=\"display:list-item; font-size:16px; color:blue;\"><i>Is <b>this</b> the right number of bins? Toggle to check:</i></summary>\n",
    "    This is more interesting! Now we can see a spike in the smallest lobsters that wasn't obvious before. Let's try even more bins and see what happens.<br><br> \n",
    "    </details>"
   ]
  },
  {
   "cell_type": "markdown",
   "id": "7ccd29ae",
   "metadata": {},
   "source": [
    "4. Set the `bins` equal to 30. Let's give the distribution a little breathing room on either side by specifying a `range` of `(75, 155)` - just slightly outside of our minimum and maximum x-values. Additionally, set the histogram `color` to `'gold'`... because why not?"
   ]
  },
  {
   "cell_type": "code",
   "execution_count": 8,
   "id": "cbcb44c8",
   "metadata": {
    "deletable": false,
    "tags": [
     "cp4"
    ]
   },
   "outputs": [
    {
     "data": {
      "image/png": "[encoded data removed]",
      "text/plain": [
       "<Figure size 375x225 with 1 Axes>"
      ]
     },
     "metadata": {},
     "output_type": "display_data"
    }
   ],
   "source": [
    "## YOUR SOLUTION HERE ##\n",
    "plt.hist(hist_data.carapace_length, bins = 30, range = (75, 155), color='gold')\n",
    "plt.title('Lobsters tagged by size')\n",
    "plt.xlabel('Carapace length (mm)')\n",
    "plt.ylabel('Number tagged')\n",
    "\n",
    "\n",
    "\n",
    "plt.show()"
   ]
  },
  {
   "cell_type": "markdown",
   "id": "c36817ad",
   "metadata": {},
   "source": [
    "5. OPTIONAL: Play around with the number of bins. How many bins is too many? How many is too few? At what number does the graph appear as just one peak (unimodal distribution) rather than two peaks (bimodal distribution)?"
   ]
  },
  {
   "cell_type": "code",
   "execution_count": null,
   "id": "03106732",
   "metadata": {},
   "outputs": [],
   "source": [
    "## YOUR SOLUTION HERE ##\n",
    "\n",
    "\n",
    "\n",
    "\n",
    "plt.show()\n"
   ]
  },
  {
   "cell_type": "markdown",
   "id": "afcd2739",
   "metadata": {},
   "source": [
    "<details>\n",
    "    <summary style=\"display:list-item; font-size:16px; color:blue;\"><i>What number makes the uni- vs bimodal distribution distinct? Toggle to check:</i></summary>\n",
    "    With 13 bins, the distribution appears to be unimodal. With 14 bins, it appears to be bimodal. Our ideal number of bins is higher than both of these, at 30.<br><br> \n",
    "    </details>"
   ]
  }
 ],
 "metadata": {
  "kernelspec": {
   "display_name": "Python 3 (ipykernel)",
   "language": "python",
   "name": "python3"
  },
  "language_info": {
   "codemirror_mode": {
    "name": "ipython",
    "version": 3
   },
   "file_extension": ".py",
   "mimetype": "text/x-python",
   "name": "python",
   "nbconvert_exporter": "python",
   "pygments_lexer": "ipython3",
   "version": "3.8.10"
  }
 },
 "nbformat": 4,
 "nbformat_minor": 5
}
